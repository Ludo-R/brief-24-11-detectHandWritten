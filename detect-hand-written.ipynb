{
 "cells": [
  {
   "cell_type": "markdown",
   "metadata": {},
   "source": [
    "# 1) Get and understand your data"
   ]
  },
  {
   "cell_type": "code",
   "execution_count": 1,
   "metadata": {
    "scrolled": true
   },
   "outputs": [
    {
     "name": "stdout",
     "output_type": "stream",
     "text": [
      "(1797, 64)\n"
     ]
    }
   ],
   "source": [
    "\n",
    "# Import some libraries\n",
    "\n",
    "import numpy as np\n",
    "from sklearn.datasets import load_digits\n",
    "import matplotlib.pyplot as plt \n",
    "\n",
    "# Import some data\n",
    "digits = load_digits()\n",
    "# Show dimensionality\n",
    "print(digits.data.shape)"
   ]
  },
  {
   "cell_type": "code",
   "execution_count": 2,
   "metadata": {},
   "outputs": [
    {
     "data": {
      "text/plain": [
       "<Figure size 432x288 with 0 Axes>"
      ]
     },
     "metadata": {},
     "output_type": "display_data"
    },
    {
     "data": {
      "image/png": "[encoded data removed]",
      "text/plain": [
       "<Figure size 288x288 with 1 Axes>"
      ]
     },
     "metadata": {
      "needs_background": "light"
     },
     "output_type": "display_data"
    }
   ],
   "source": [
    "# Show one data\n",
    "\n",
    "plt.gray() \n",
    "plt.matshow(digits.images[0]) \n",
    "plt.show()"
   ]
  },
  {
   "cell_type": "code",
   "execution_count": 3,
   "metadata": {},
   "outputs": [
    {
     "data": {
      "image/png": "[encoded data removed]",
      "text/plain": [
       "<Figure size 864x864 with 100 Axes>"
      ]
     },
     "metadata": {
      "needs_background": "light"
     },
     "output_type": "display_data"
    }
   ],
   "source": [
    "\n",
    "# Show several data for each label (== category) \n",
    "\n",
    "X = digits.images\n",
    "Y = digits.target\n",
    "\n",
    "\n",
    "\n",
    "n_digits = np.unique(Y)\n",
    "\n",
    "M = 10\n",
    "dim = int(np.sqrt(X.shape[1]))\n",
    "\n",
    "fig, axs = plt.subplots(len(n_digits), M, figsize=(12, 12))\n",
    "\n",
    "for i, d in enumerate(n_digits):\n",
    "    for j in range(M):\n",
    "        axs[i,j].imshow(X[Y == d][j])\n",
    "        axs[i,j].axis('off')"
   ]
  },
  {
   "cell_type": "markdown",
   "metadata": {},
   "source": [
    "### What is the type of the data ?\n",
    "\n",
    "Data's are Images, it is Object type\n",
    "\n",
    "### How many pixel has one data instance ?\n",
    "\n",
    "One data instance have 64 pixel, 8x8\n",
    "\n",
    "### What is the type of data of one pixel ? what does it represents ?\n",
    "\n",
    "The type of data of one pixel is Float, it represents the variation of gray color."
   ]
  },
  {
   "cell_type": "markdown",
   "metadata": {},
   "source": [
    "# 2) Prepare your ML algorithm"
   ]
  },
  {
   "cell_type": "markdown",
   "metadata": {},
   "source": [
    "### explain the purpose of the training set ?\n",
    "\n",
    "The training set, which will allow us to train our model and will be used by the learning algorithm.\n",
    "\n",
    "### explain the purpose of the testing set ?\n",
    "\n",
    "The testing set, which measures the error of the final model on data it has never seen. We will simply pass this data as if it were data that we have never encountered before (as it will then happen in practice to predict new data) and measure the performance of our model on this data. . This is also called held-out data, to emphasize that this is data that we will not touch before the very end to be able to be sure that the model is working."
   ]
  },
  {
   "cell_type": "markdown",
   "metadata": {},
   "source": [
    "### split data"
   ]
  },
  {
   "cell_type": "code",
   "execution_count": 4,
   "metadata": {},
   "outputs": [],
   "source": [
    "X = digits.data\n",
    "Y = digits.target\n",
    "\n",
    "X = digits.images.reshape((len(digits.images), -1))\n",
    "\n",
    "from sklearn.model_selection import train_test_split\n",
    "\n",
    "x_train, x_test, y_train, y_test = train_test_split(X, Y, test_size=0.20, random_state=0)"
   ]
  },
  {
   "cell_type": "markdown",
   "metadata": {},
   "source": [
    "# 3) Predict Digits"
   ]
  },
  {
   "cell_type": "markdown",
   "metadata": {},
   "source": [
    "## Algorithm Classification 1 : SKlearn.linear_model LogisticRegression"
   ]
  },
  {
   "cell_type": "code",
   "execution_count": 5,
   "metadata": {},
   "outputs": [
    {
     "name": "stdout",
     "output_type": "stream",
     "text": [
      "[0 1 0 0 0 0 0 0 1 0 0 1 0 0 0 0 0 0 0 1 1 0 1 0 0 0 0 0 0 0 0 0 0 0 0 0 0\n",
      " 1 0 0 1 0 0 0 0 0 0 0 0 0]\n",
      "[0 1 0 0 0 0 0 0 1 0 0 1 0 0 0 0 0 0 0 1 1 0 1 0 0 0 0 0 0 0 0 0 0 1 0 0 0\n",
      " 0 0 0 1 0 0 0 0 0 0 0 0 0]\n"
     ]
    }
   ],
   "source": [
    "y_train[y_train != 8] = 0\n",
    "y_test[y_test != 8] = 0\n",
    "y_train[y_train == 8] = 1\n",
    "y_test[y_test == 8] = 1\n",
    "\n",
    "from sklearn.linear_model import LogisticRegression\n",
    "    \n",
    "logisticRegr = LogisticRegression(max_iter = 3500)\n",
    "\n",
    "logisticRegr.fit(x_train, y_train)\n",
    "\n",
    "predictions = logisticRegr.predict(x_test)\n",
    "print(predictions[:50])\n",
    "print(y_test[:50])"
   ]
  },
  {
   "cell_type": "markdown",
   "metadata": {},
   "source": [
    "### Accuracy, Precision"
   ]
  },
  {
   "cell_type": "code",
   "execution_count": 6,
   "metadata": {},
   "outputs": [
    {
     "name": "stdout",
     "output_type": "stream",
     "text": [
      "Accuracy : 0.9611111111111111\n",
      "\n",
      "Precision : [0.97230769 0.85714286]\n"
     ]
    }
   ],
   "source": [
    "\n",
    "from sklearn.metrics import accuracy_score\n",
    "\n",
    "print(\"Accuracy : %s\"% accuracy_score(y_test, predictions))\n",
    "\n",
    "\n",
    "from sklearn.metrics import precision_score\n",
    "\n",
    "print(\"\\nPrecision : %s\"% precision_score(y_test, predictions, average=None))"
   ]
  },
  {
   "cell_type": "markdown",
   "metadata": {},
   "source": [
    "### Recall"
   ]
  },
  {
   "cell_type": "code",
   "execution_count": 7,
   "metadata": {},
   "outputs": [
    {
     "name": "stdout",
     "output_type": "stream",
     "text": [
      "Recall : [0.98442368 0.76923077]\n"
     ]
    }
   ],
   "source": [
    "from sklearn.metrics import recall_score, classification_report\n",
    "\n",
    "print(\"Recall : %s\"% recall_score(y_test, predictions, average=None, zero_division=1))"
   ]
  },
  {
   "cell_type": "markdown",
   "metadata": {},
   "source": [
    "### Classification report"
   ]
  },
  {
   "cell_type": "code",
   "execution_count": 8,
   "metadata": {},
   "outputs": [
    {
     "name": "stdout",
     "output_type": "stream",
     "text": [
      "              precision    recall  f1-score   support\n",
      "\n",
      "           0       0.97      0.98      0.98       321\n",
      "           1       0.86      0.77      0.81        39\n",
      "\n",
      "    accuracy                           0.96       360\n",
      "   macro avg       0.91      0.88      0.89       360\n",
      "weighted avg       0.96      0.96      0.96       360\n",
      "\n"
     ]
    }
   ],
   "source": [
    "log_report1 = classification_report(y_test, predictions)\n",
    "print(log_report1)"
   ]
  },
  {
   "cell_type": "markdown",
   "metadata": {},
   "source": [
    "## Algorithm Classification 2 : MLP Neural Network"
   ]
  },
  {
   "cell_type": "code",
   "execution_count": 9,
   "metadata": {},
   "outputs": [],
   "source": [
    "y = digits.target\n",
    "x = digits.images.reshape((len(digits.images), -1))\n",
    "\n",
    "x_train, x_test, y_train, y_test = train_test_split(x, y, test_size=0.20, random_state=0)\n",
    "\n",
    "y_train[y_train != 8] = 0\n",
    "y_test[y_test != 8] = 0\n",
    "y_train[y_train == 8] = 1\n",
    "y_test[y_test == 8] = 1\n",
    "\n",
    "from sklearn.neural_network import MLPClassifier\n",
    "\n",
    "mlp = MLPClassifier(hidden_layer_sizes=(15,), activation='logistic', alpha=1e-4,\n",
    "                    solver='sgd', tol=1e-4, random_state=1,\n",
    "                    learning_rate_init=.09, verbose=True, max_iter=250)"
   ]
  },
  {
   "cell_type": "code",
   "execution_count": 10,
   "metadata": {},
   "outputs": [
    {
     "name": "stdout",
     "output_type": "stream",
     "text": [
      "Iteration 1, loss = 0.38018663\n",
      "Iteration 2, loss = 0.31119361\n",
      "Iteration 3, loss = 0.30155675\n",
      "Iteration 4, loss = 0.28202813\n",
      "Iteration 5, loss = 0.26092410\n",
      "Iteration 6, loss = 0.23215638\n",
      "Iteration 7, loss = 0.20475918\n",
      "Iteration 8, loss = 0.17658393\n",
      "Iteration 9, loss = 0.16178061\n",
      "Iteration 10, loss = 0.13528439\n",
      "Iteration 11, loss = 0.12486824\n",
      "Iteration 12, loss = 0.16058101\n",
      "Iteration 13, loss = 0.14510797\n",
      "Iteration 14, loss = 0.15415155\n",
      "Iteration 15, loss = 0.12494840\n",
      "Iteration 16, loss = 0.12064747\n",
      "Iteration 17, loss = 0.11921484\n",
      "Iteration 18, loss = 0.11211344\n",
      "Iteration 19, loss = 0.15223480\n",
      "Iteration 20, loss = 0.10299260\n",
      "Iteration 21, loss = 0.09492422\n",
      "Iteration 22, loss = 0.09523583\n",
      "Iteration 23, loss = 0.11077948\n",
      "Iteration 24, loss = 0.08954474\n",
      "Iteration 25, loss = 0.09719131\n",
      "Iteration 26, loss = 0.08348369\n",
      "Iteration 27, loss = 0.11462071\n",
      "Iteration 28, loss = 0.10082719\n",
      "Iteration 29, loss = 0.08790273\n",
      "Iteration 30, loss = 0.07351116\n",
      "Iteration 31, loss = 0.08069555\n",
      "Iteration 32, loss = 0.08898225\n",
      "Iteration 33, loss = 0.06633447\n",
      "Iteration 34, loss = 0.06068554\n",
      "Iteration 35, loss = 0.06793608\n",
      "Iteration 36, loss = 0.05480192\n",
      "Iteration 37, loss = 0.05848485\n",
      "Iteration 38, loss = 0.05133232\n",
      "Iteration 39, loss = 0.04778378\n",
      "Iteration 40, loss = 0.05320723\n",
      "Iteration 41, loss = 0.05575348\n",
      "Iteration 42, loss = 0.04310186\n",
      "Iteration 43, loss = 0.04142719\n",
      "Iteration 44, loss = 0.04039784\n",
      "Iteration 45, loss = 0.04110104\n",
      "Iteration 46, loss = 0.04334210\n",
      "Iteration 47, loss = 0.04057471\n",
      "Iteration 48, loss = 0.03700926\n",
      "Iteration 49, loss = 0.03350865\n",
      "Iteration 50, loss = 0.03760261\n",
      "Iteration 51, loss = 0.03372127\n",
      "Iteration 52, loss = 0.03246270\n",
      "Iteration 53, loss = 0.03085362\n",
      "Iteration 54, loss = 0.03018846\n",
      "Iteration 55, loss = 0.02711257\n",
      "Iteration 56, loss = 0.02600364\n",
      "Iteration 57, loss = 0.02669236\n",
      "Iteration 58, loss = 0.02537241\n",
      "Iteration 59, loss = 0.02489231\n",
      "Iteration 60, loss = 0.02749843\n",
      "Iteration 61, loss = 0.02902970\n",
      "Iteration 62, loss = 0.02438414\n",
      "Iteration 63, loss = 0.02396916\n",
      "Iteration 64, loss = 0.02335132\n",
      "Iteration 65, loss = 0.04506945\n",
      "Iteration 66, loss = 0.02855351\n",
      "Iteration 67, loss = 0.02314311\n",
      "Iteration 68, loss = 0.02092251\n",
      "Iteration 69, loss = 0.02067015\n",
      "Iteration 70, loss = 0.01949105\n",
      "Iteration 71, loss = 0.02069918\n",
      "Iteration 72, loss = 0.01910003\n",
      "Iteration 73, loss = 0.01904085\n",
      "Iteration 74, loss = 0.01735935\n",
      "Iteration 75, loss = 0.01859636\n",
      "Iteration 76, loss = 0.01762062\n",
      "Iteration 77, loss = 0.01753932\n",
      "Iteration 78, loss = 0.01767473\n",
      "Iteration 79, loss = 0.01696100\n",
      "Iteration 80, loss = 0.01641523\n",
      "Iteration 81, loss = 0.01645049\n",
      "Iteration 82, loss = 0.01673592\n",
      "Iteration 83, loss = 0.01562550\n",
      "Iteration 84, loss = 0.01620764\n",
      "Iteration 85, loss = 0.01654322\n",
      "Iteration 86, loss = 0.01534124\n",
      "Iteration 87, loss = 0.01731197\n",
      "Iteration 88, loss = 0.01499680\n",
      "Iteration 89, loss = 0.01507798\n",
      "Iteration 90, loss = 0.01595361\n",
      "Iteration 91, loss = 0.01409143\n",
      "Iteration 92, loss = 0.01429995\n",
      "Iteration 93, loss = 0.01390641\n",
      "Iteration 94, loss = 0.01393736\n",
      "Iteration 95, loss = 0.01362475\n",
      "Iteration 96, loss = 0.01358924\n",
      "Iteration 97, loss = 0.01354995\n",
      "Iteration 98, loss = 0.01313231\n",
      "Iteration 99, loss = 0.01385990\n",
      "Iteration 100, loss = 0.01336426\n",
      "Iteration 101, loss = 0.01276303\n",
      "Iteration 102, loss = 0.01315569\n",
      "Iteration 103, loss = 0.01328057\n",
      "Iteration 104, loss = 0.01526974\n",
      "Iteration 105, loss = 0.01589981\n",
      "Iteration 106, loss = 0.01345120\n",
      "Iteration 107, loss = 0.01281081\n",
      "Iteration 108, loss = 0.01221107\n",
      "Iteration 109, loss = 0.01239890\n",
      "Iteration 110, loss = 0.01228566\n",
      "Iteration 111, loss = 0.01297097\n",
      "Iteration 112, loss = 0.01194769\n",
      "Iteration 113, loss = 0.01164095\n",
      "Iteration 114, loss = 0.01191215\n",
      "Iteration 115, loss = 0.01132656\n",
      "Iteration 116, loss = 0.01123269\n",
      "Iteration 117, loss = 0.01121304\n",
      "Iteration 118, loss = 0.01135287\n",
      "Iteration 119, loss = 0.01099681\n",
      "Iteration 120, loss = 0.01109474\n",
      "Iteration 121, loss = 0.01101428\n",
      "Iteration 122, loss = 0.01126571\n",
      "Iteration 123, loss = 0.01109351\n",
      "Iteration 124, loss = 0.01086611\n",
      "Iteration 125, loss = 0.01107295\n",
      "Iteration 126, loss = 0.01076137\n",
      "Iteration 127, loss = 0.01052042\n",
      "Iteration 128, loss = 0.01059059\n",
      "Iteration 129, loss = 0.01333983\n",
      "Iteration 130, loss = 0.01068041\n",
      "Iteration 131, loss = 0.01127527\n",
      "Iteration 132, loss = 0.01072585\n",
      "Iteration 133, loss = 0.01046276\n",
      "Iteration 134, loss = 0.01059942\n",
      "Iteration 135, loss = 0.01032102\n",
      "Iteration 136, loss = 0.01042157\n",
      "Iteration 137, loss = 0.01005241\n",
      "Iteration 138, loss = 0.01045977\n",
      "Iteration 139, loss = 0.00997753\n",
      "Iteration 140, loss = 0.01140608\n",
      "Iteration 141, loss = 0.01028114\n",
      "Iteration 142, loss = 0.00991710\n",
      "Iteration 143, loss = 0.00965319\n",
      "Iteration 144, loss = 0.00981769\n",
      "Iteration 145, loss = 0.00958765\n",
      "Iteration 146, loss = 0.00945746\n",
      "Iteration 147, loss = 0.00943512\n",
      "Iteration 148, loss = 0.00941335\n",
      "Iteration 149, loss = 0.00964707\n",
      "Iteration 150, loss = 0.00939979\n",
      "Iteration 151, loss = 0.00923468\n",
      "Iteration 152, loss = 0.00906090\n",
      "Iteration 153, loss = 0.00901369\n",
      "Iteration 154, loss = 0.00924568\n",
      "Iteration 155, loss = 0.00926189\n",
      "Iteration 156, loss = 0.00994593\n",
      "Iteration 157, loss = 0.00891499\n",
      "Iteration 158, loss = 0.00903518\n",
      "Iteration 159, loss = 0.00931691\n",
      "Iteration 160, loss = 0.00904484\n",
      "Iteration 161, loss = 0.00967118\n",
      "Iteration 162, loss = 0.00908846\n",
      "Iteration 163, loss = 0.00906171\n",
      "Training loss did not improve more than tol=0.000100 for 10 consecutive epochs. Stopping.\n"
     ]
    },
    {
     "data": {
      "text/plain": [
       "MLPClassifier(activation='logistic', hidden_layer_sizes=(15,),\n",
       "              learning_rate_init=0.09, max_iter=250, random_state=1,\n",
       "              solver='sgd', verbose=True)"
      ]
     },
     "execution_count": 10,
     "metadata": {},
     "output_type": "execute_result"
    }
   ],
   "source": [
    "mlp.fit(x_train,y_train)"
   ]
  },
  {
   "cell_type": "code",
   "execution_count": 11,
   "metadata": {},
   "outputs": [
    {
     "data": {
      "text/plain": [
       "array([0, 1, 0, 0, 0, 0, 0, 0, 1, 0, 0, 1, 0, 0, 0, 0, 0, 0, 0, 1, 1, 0,\n",
       "       1, 0, 0, 0, 0, 0, 0, 0, 0, 0, 0, 1, 0, 0, 0, 0, 0, 0, 1, 0, 0, 0,\n",
       "       0, 0, 0, 0, 0, 0, 0, 0, 0, 0, 0, 0, 0, 0, 0, 0, 0, 0, 0, 0, 0, 0,\n",
       "       0, 0, 0, 0, 1, 0, 0, 0, 0, 1, 0, 0, 0, 0, 0, 0, 0, 0, 0, 0, 0, 0,\n",
       "       0, 0, 0, 0, 0, 0, 0, 0, 0, 1, 0, 1])"
      ]
     },
     "execution_count": 11,
     "metadata": {},
     "output_type": "execute_result"
    }
   ],
   "source": [
    "predictions = mlp.predict(x_test)\n",
    "predictions[:100] "
   ]
  },
  {
   "cell_type": "code",
   "execution_count": 12,
   "metadata": {},
   "outputs": [
    {
     "data": {
      "text/plain": [
       "array([0, 1, 0, 0, 0, 0, 0, 0, 1, 0, 0, 1, 0, 0, 0, 0, 0, 0, 0, 1, 1, 0,\n",
       "       1, 0, 0, 0, 0, 0, 0, 0, 0, 0, 0, 1, 0, 0, 0, 0, 0, 0, 1, 0, 0, 0,\n",
       "       0, 0, 0, 0, 0, 0, 0, 0, 0, 0, 0, 0, 0, 0, 0, 0, 0, 0, 0, 0, 0, 0,\n",
       "       0, 0, 0, 0, 1, 0, 0, 0, 0, 1, 0, 0, 0, 0, 0, 0, 0, 0, 0, 0, 0, 0,\n",
       "       0, 0, 0, 0, 0, 0, 0, 0, 0, 1, 0, 1])"
      ]
     },
     "execution_count": 12,
     "metadata": {},
     "output_type": "execute_result"
    }
   ],
   "source": [
    "y_test[:100]"
   ]
  },
  {
   "cell_type": "markdown",
   "metadata": {},
   "source": [
    "### Accuracy, Precision, Recall"
   ]
  },
  {
   "cell_type": "code",
   "execution_count": 13,
   "metadata": {},
   "outputs": [
    {
     "name": "stdout",
     "output_type": "stream",
     "text": [
      "Accuracy : 0.9861111111111112\n",
      "\n",
      "Precision : [0.98466258 1.        ]\n",
      "\n",
      "Recall : [1.         0.87179487]\n"
     ]
    }
   ],
   "source": [
    "print(\"Accuracy : %s\"% accuracy_score(y_test, predictions))\n",
    "\n",
    "\n",
    "from sklearn.metrics import precision_score\n",
    "\n",
    "print(\"\\nPrecision : %s\"% precision_score(y_test, predictions, average=None))\n",
    "\n",
    "print(\"\\nRecall : %s\"% recall_score(y_test, predictions, average=None, zero_division=1))"
   ]
  },
  {
   "cell_type": "markdown",
   "metadata": {},
   "source": [
    "### Classification report"
   ]
  },
  {
   "cell_type": "code",
   "execution_count": 14,
   "metadata": {},
   "outputs": [
    {
     "name": "stdout",
     "output_type": "stream",
     "text": [
      "              precision    recall  f1-score   support\n",
      "\n",
      "           0       0.98      1.00      0.99       321\n",
      "           1       1.00      0.87      0.93        39\n",
      "\n",
      "    accuracy                           0.99       360\n",
      "   macro avg       0.99      0.94      0.96       360\n",
      "weighted avg       0.99      0.99      0.99       360\n",
      "\n"
     ]
    }
   ],
   "source": [
    "mlp_report1 = classification_report(y_test, predictions)\n",
    "print(mlp_report1)"
   ]
  },
  {
   "cell_type": "markdown",
   "metadata": {},
   "source": [
    "## Algorithm Classification 3 : SVM SVC"
   ]
  },
  {
   "cell_type": "code",
   "execution_count": 15,
   "metadata": {},
   "outputs": [
    {
     "name": "stdout",
     "output_type": "stream",
     "text": [
      "[0 1 0 0 0 0 0 0 1 0 0 1 0 0 0 0 0 0 0 1 1 0 0 0 0 0 0 0 0 0 0 0 0 0 0 0 0\n",
      " 1 0 0 1 0 0 0 0 0 0 0 0 0 0 0 0 0 0 0 0 0 0 0 0 0 0 0 0 0 0 0 0 0 1 0 0 0\n",
      " 0 1 0 0 0 0 0 0 0 0 0 0 0 0 0 0 0 0 0 0 0 0 0 1 0 0]\n"
     ]
    }
   ],
   "source": [
    "y = digits.target\n",
    "x = digits.images.reshape((len(digits.images), -1))\n",
    "\n",
    "x_train, x_test, y_train, y_test = train_test_split(x, y, test_size=0.20, random_state=0)\n",
    "\n",
    "y_train[y_train != 8] = 0\n",
    "y_test[y_test != 8] = 0\n",
    "y_train[y_train == 8] = 1\n",
    "y_test[y_test == 8] = 1\n",
    "\n",
    "from sklearn import svm\n",
    "\n",
    "\n",
    "clf = svm.SVC(kernel='linear')\n",
    "\n",
    "\n",
    "clf.fit(x_train, y_train)\n",
    "\n",
    "predictions = clf.predict(x_test)\n",
    "\n",
    "print(predictions[:100])"
   ]
  },
  {
   "cell_type": "code",
   "execution_count": 16,
   "metadata": {},
   "outputs": [
    {
     "name": "stdout",
     "output_type": "stream",
     "text": [
      "[0 1 0 0 0 0 0 0 1 0 0 1 0 0 0 0 0 0 0 1 1 0 1 0 0 0 0 0 0 0 0 0 0 1 0 0 0\n",
      " 0 0 0 1 0 0 0 0 0 0 0 0 0 0 0 0 0 0 0 0 0 0 0 0 0 0 0 0 0 0 0 0 0 1 0 0 0\n",
      " 0 1 0 0 0 0 0 0 0 0 0 0 0 0 0 0 0 0 0 0 0 0 0 1 0 1]\n"
     ]
    }
   ],
   "source": [
    "print(y_test[:100])"
   ]
  },
  {
   "cell_type": "markdown",
   "metadata": {},
   "source": [
    "### Accuracy, Precision, Recall"
   ]
  },
  {
   "cell_type": "code",
   "execution_count": 17,
   "metadata": {},
   "outputs": [
    {
     "name": "stdout",
     "output_type": "stream",
     "text": [
      "Accuracy : 0.9527777777777777\n",
      "\n",
      "Precision : [0.96625767 0.82352941]\n",
      "\n",
      "Recall : [0.98130841 0.71794872]\n"
     ]
    }
   ],
   "source": [
    "print(\"Accuracy : %s\"% accuracy_score(y_test, predictions))\n",
    "\n",
    "\n",
    "from sklearn.metrics import precision_score\n",
    "\n",
    "print(\"\\nPrecision : %s\"% precision_score(y_test, predictions, average=None))\n",
    "\n",
    "print(\"\\nRecall : %s\"% recall_score(y_test, predictions, average=None, zero_division=1))"
   ]
  },
  {
   "cell_type": "markdown",
   "metadata": {},
   "source": [
    "### Classification report"
   ]
  },
  {
   "cell_type": "code",
   "execution_count": 18,
   "metadata": {},
   "outputs": [
    {
     "name": "stdout",
     "output_type": "stream",
     "text": [
      "              precision    recall  f1-score   support\n",
      "\n",
      "           0       0.97      0.98      0.97       321\n",
      "           1       0.82      0.72      0.77        39\n",
      "\n",
      "    accuracy                           0.95       360\n",
      "   macro avg       0.89      0.85      0.87       360\n",
      "weighted avg       0.95      0.95      0.95       360\n",
      "\n"
     ]
    }
   ],
   "source": [
    "svc_report1 = classification_report(y_test, predictions)\n",
    "print(svc_report1)"
   ]
  },
  {
   "cell_type": "markdown",
   "metadata": {},
   "source": [
    "## Conclusion"
   ]
  },
  {
   "cell_type": "code",
   "execution_count": 19,
   "metadata": {},
   "outputs": [
    {
     "name": "stdout",
     "output_type": "stream",
     "text": [
      "Logistic Regession :\n",
      "               precision    recall  f1-score   support\n",
      "\n",
      "           0       0.97      0.98      0.98       321\n",
      "           1       0.86      0.77      0.81        39\n",
      "\n",
      "    accuracy                           0.96       360\n",
      "   macro avg       0.91      0.88      0.89       360\n",
      "weighted avg       0.96      0.96      0.96       360\n",
      "\n",
      "\n",
      "\n",
      "MLP :\n",
      "               precision    recall  f1-score   support\n",
      "\n",
      "           0       0.98      1.00      0.99       321\n",
      "           1       1.00      0.87      0.93        39\n",
      "\n",
      "    accuracy                           0.99       360\n",
      "   macro avg       0.99      0.94      0.96       360\n",
      "weighted avg       0.99      0.99      0.99       360\n",
      "\n",
      "\n",
      "\n",
      "SVC : \n",
      "               precision    recall  f1-score   support\n",
      "\n",
      "           0       0.97      0.98      0.97       321\n",
      "           1       0.82      0.72      0.77        39\n",
      "\n",
      "    accuracy                           0.95       360\n",
      "   macro avg       0.89      0.85      0.87       360\n",
      "weighted avg       0.95      0.95      0.95       360\n",
      "\n"
     ]
    }
   ],
   "source": [
    "print(\"Logistic Regession :\\n %s\"% log_report1)\n",
    "\n",
    "print(\"\\n\\nMLP :\\n %s\"% mlp_report1)\n",
    "\n",
    "print(\"\\n\\nSVC : \\n %s\"% svc_report1)"
   ]
  },
  {
   "cell_type": "markdown",
   "metadata": {},
   "source": [
    "\n",
    "#### We can notice that in the case of a binary logistic regression the MLP Neural network model is the most efficient with an accuracy score of 0.98, precision and recall scores really superior to the other algorhitm"
   ]
  },
  {
   "cell_type": "markdown",
   "metadata": {},
   "source": [
    "### How many input data the algorithms needs the be efficient ? "
   ]
  },
  {
   "cell_type": "markdown",
   "metadata": {},
   "source": [
    "We need 5% of data to have 90+% precision on the model"
   ]
  },
  {
   "cell_type": "markdown",
   "metadata": {},
   "source": [
    "# 4) Multi-class classification"
   ]
  },
  {
   "cell_type": "markdown",
   "metadata": {},
   "source": [
    "## Multi-class / Algorithm 1 : LogisticRegression"
   ]
  },
  {
   "cell_type": "code",
   "execution_count": 20,
   "metadata": {},
   "outputs": [],
   "source": [
    "X = digits.data\n",
    "Y = digits.target\n",
    "\n",
    "from sklearn.model_selection import train_test_split\n",
    "\n",
    "x_train, x_test, y_train, y_test = train_test_split(X, Y, test_size=0.20, random_state=0)\n",
    "\n",
    "from sklearn.linear_model import LogisticRegression\n",
    "    \n",
    "logisticRegr = LogisticRegression(max_iter = 3500)"
   ]
  },
  {
   "cell_type": "code",
   "execution_count": 21,
   "metadata": {},
   "outputs": [
    {
     "name": "stdout",
     "output_type": "stream",
     "text": [
      "[2 8 2 6 6 7 1 9 8 5 2 8 6 6 6 6 1 0 5 8 8 7 8 4 7 5 4 9 2 9 4 7 6 8 9 4 3\n",
      " 1 0 1 8 6 7 7 1 0 7 6 2 1 9 6 7 9 0 0 9 1 6 3 0 2 3 4 1 9 2 6 9 1 8 3 5 1\n",
      " 2 8 2 2 9 7 2 3 6 0 9 3 7 5 1 2 8 9 3 1 4 7 4 8 5 8]\n",
      "[2 8 2 6 6 7 1 9 8 5 2 8 6 6 6 6 1 0 5 8 8 7 8 4 7 5 4 9 2 9 4 7 6 8 9 4 3\n",
      " 1 0 1 8 6 7 7 1 0 7 6 2 1 9 6 7 9 0 0 5 1 6 3 0 2 3 4 1 9 2 6 9 1 8 3 5 1\n",
      " 2 8 2 2 9 7 2 3 6 0 5 3 7 5 1 2 9 9 3 1 7 7 4 8 5 8]\n",
      "\n",
      " Accuracy : 0.9583333333333334\n"
     ]
    }
   ],
   "source": [
    "logisticRegr.fit(x_train, y_train)\n",
    "\n",
    "predictions = logisticRegr.predict(x_test)\n",
    "print(predictions[:100])\n",
    "print(y_test[:100])\n",
    "\n",
    "score = logisticRegr.score(x_test, y_test)\n",
    "print(\"\\n Accuracy : %s\"% score)"
   ]
  },
  {
   "cell_type": "markdown",
   "metadata": {},
   "source": [
    "### Confusion matrice"
   ]
  },
  {
   "cell_type": "code",
   "execution_count": 22,
   "metadata": {},
   "outputs": [
    {
     "name": "stdout",
     "output_type": "stream",
     "text": [
      "[[27  0  0  0  0  0  0  0  0  0]\n",
      " [ 0 31  0  0  0  0  1  0  2  1]\n",
      " [ 0  0 35  1  0  0  0  0  0  0]\n",
      " [ 0  0  0 29  0  0  0  0  0  0]\n",
      " [ 0  0  0  0 30  0  0  0  0  0]\n",
      " [ 0  0  0  0  0 37  0  0  0  3]\n",
      " [ 0  1  0  0  0  0 43  0  0  0]\n",
      " [ 0  0  0  0  1  0  0 38  0  0]\n",
      " [ 0  2  1  0  0  0  0  0 36  0]\n",
      " [ 0  0  0  0  0  1  0  0  1 39]]\n"
     ]
    },
    {
     "data": {
      "image/png": "[encoded data removed]",
      "text/plain": [
       "<Figure size 648x648 with 2 Axes>"
      ]
     },
     "metadata": {
      "needs_background": "light"
     },
     "output_type": "display_data"
    }
   ],
   "source": [
    "import matplotlib.pyplot as plt\n",
    "import seaborn as sns\n",
    "from sklearn import metrics\n",
    "\n",
    "cm = metrics.confusion_matrix(y_test, predictions)\n",
    "print(cm)\n",
    "\n",
    "\n",
    "plt.figure(figsize=(9,9))\n",
    "sns.heatmap(cm, annot=True, fmt=\".3f\", linewidths=.5, square = True, cmap = 'Blues_r');\n",
    "plt.ylabel('Actual label');\n",
    "plt.xlabel('Predicted label');\n",
    "plt.title(\"Confusion Matrix\", size = 15);"
   ]
  },
  {
   "cell_type": "markdown",
   "metadata": {},
   "source": [
    "### Classification report"
   ]
  },
  {
   "cell_type": "code",
   "execution_count": 23,
   "metadata": {},
   "outputs": [
    {
     "name": "stdout",
     "output_type": "stream",
     "text": [
      "Accuracy : 0.9583333333333334\n",
      "\n",
      "              precision    recall  f1-score   support\n",
      "\n",
      "           0       1.00      1.00      1.00        27\n",
      "           1       0.91      0.89      0.90        35\n",
      "           2       0.97      0.97      0.97        36\n",
      "           3       0.97      1.00      0.98        29\n",
      "           4       0.97      1.00      0.98        30\n",
      "           5       0.97      0.93      0.95        40\n",
      "           6       0.98      0.98      0.98        44\n",
      "           7       1.00      0.97      0.99        39\n",
      "           8       0.92      0.92      0.92        39\n",
      "           9       0.91      0.95      0.93        41\n",
      "\n",
      "    accuracy                           0.96       360\n",
      "   macro avg       0.96      0.96      0.96       360\n",
      "weighted avg       0.96      0.96      0.96       360\n",
      "\n"
     ]
    }
   ],
   "source": [
    "print(\"Accuracy : %s\\n\" % metrics.accuracy_score(y_test, predictions))\n",
    "\n",
    "log_report2 = classification_report(y_test, predictions)\n",
    "print(log_report2)"
   ]
  },
  {
   "cell_type": "markdown",
   "metadata": {},
   "source": [
    "## Multi-class / Algorithm 2 : MLP Neuronal Network"
   ]
  },
  {
   "cell_type": "code",
   "execution_count": 24,
   "metadata": {},
   "outputs": [
    {
     "name": "stdout",
     "output_type": "stream",
     "text": [
      "(1797, 8, 8)\n",
      "(1797,)\n",
      "[0 1 2 ... 8 9 8]\n"
     ]
    }
   ],
   "source": [
    "print(digits.images.shape)\n",
    "print(digits.target.shape)\n",
    "print(digits.target)"
   ]
  },
  {
   "cell_type": "code",
   "execution_count": 25,
   "metadata": {},
   "outputs": [
    {
     "data": {
      "text/plain": [
       "(1797, 64)"
      ]
     },
     "execution_count": 25,
     "metadata": {},
     "output_type": "execute_result"
    }
   ],
   "source": [
    "y = digits.target\n",
    "x = digits.images.reshape((len(digits.images), -1))\n",
    "x.shape\n"
   ]
  },
  {
   "cell_type": "code",
   "execution_count": 26,
   "metadata": {},
   "outputs": [],
   "source": [
    "from sklearn.model_selection import train_test_split\n",
    "x_train, x_test, y_train, y_test = train_test_split(x, y, test_size=0.20, random_state=0)"
   ]
  },
  {
   "cell_type": "code",
   "execution_count": 27,
   "metadata": {},
   "outputs": [],
   "source": [
    "from sklearn.neural_network import MLPClassifier\n",
    "\n",
    "mlp = MLPClassifier(hidden_layer_sizes=(15,), activation='logistic', alpha=1e-4,\n",
    "                    solver='sgd', tol=1e-4, random_state=1,\n",
    "                    learning_rate_init=.09, verbose=True, max_iter=3000)"
   ]
  },
  {
   "cell_type": "code",
   "execution_count": 28,
   "metadata": {},
   "outputs": [
    {
     "name": "stdout",
     "output_type": "stream",
     "text": [
      "Iteration 1, loss = 2.16426927\n",
      "Iteration 2, loss = 1.72859239\n",
      "Iteration 3, loss = 1.32342952\n",
      "Iteration 4, loss = 0.97430063\n",
      "Iteration 5, loss = 0.71357597\n",
      "Iteration 6, loss = 0.55198478\n",
      "Iteration 7, loss = 0.43975107\n",
      "Iteration 8, loss = 0.37733299\n",
      "Iteration 9, loss = 0.30909497\n",
      "Iteration 10, loss = 0.27487457\n",
      "Iteration 11, loss = 0.23132274\n",
      "Iteration 12, loss = 0.22287248\n",
      "Iteration 13, loss = 0.19424126\n",
      "Iteration 14, loss = 0.17551368\n",
      "Iteration 15, loss = 0.16188585\n",
      "Iteration 16, loss = 0.15210933\n",
      "Iteration 17, loss = 0.14405872\n",
      "Iteration 18, loss = 0.12821844\n",
      "Iteration 19, loss = 0.12788600\n",
      "Iteration 20, loss = 0.11731027\n",
      "Iteration 21, loss = 0.11088207\n",
      "Iteration 22, loss = 0.10146002\n",
      "Iteration 23, loss = 0.09933104\n",
      "Iteration 24, loss = 0.09560240\n",
      "Iteration 25, loss = 0.09239654\n",
      "Iteration 26, loss = 0.09117888\n",
      "Iteration 27, loss = 0.08885907\n",
      "Iteration 28, loss = 0.09507794\n",
      "Iteration 29, loss = 0.07798364\n",
      "Iteration 30, loss = 0.07282288\n",
      "Iteration 31, loss = 0.08644399\n",
      "Iteration 32, loss = 0.07196842\n",
      "Iteration 33, loss = 0.06697878\n",
      "Iteration 34, loss = 0.07199452\n",
      "Iteration 35, loss = 0.06096152\n",
      "Iteration 36, loss = 0.05983522\n",
      "Iteration 37, loss = 0.05874452\n",
      "Iteration 38, loss = 0.05609734\n",
      "Iteration 39, loss = 0.05771449\n",
      "Iteration 40, loss = 0.05547370\n",
      "Iteration 41, loss = 0.05149356\n",
      "Iteration 42, loss = 0.04942595\n",
      "Iteration 43, loss = 0.04907646\n",
      "Iteration 44, loss = 0.04727348\n",
      "Iteration 45, loss = 0.04705263\n",
      "Iteration 46, loss = 0.04619175\n",
      "Iteration 47, loss = 0.04395107\n",
      "Iteration 48, loss = 0.04373647\n",
      "Iteration 49, loss = 0.04232705\n",
      "Iteration 50, loss = 0.04216135\n",
      "Iteration 51, loss = 0.04052240\n",
      "Iteration 52, loss = 0.04168353\n",
      "Iteration 53, loss = 0.04073922\n",
      "Iteration 54, loss = 0.04230404\n",
      "Iteration 55, loss = 0.04357514\n",
      "Iteration 56, loss = 0.04057198\n",
      "Iteration 57, loss = 0.04011930\n",
      "Iteration 58, loss = 0.03653942\n",
      "Iteration 59, loss = 0.03540832\n",
      "Iteration 60, loss = 0.03520269\n",
      "Iteration 61, loss = 0.03494393\n",
      "Iteration 62, loss = 0.03356874\n",
      "Iteration 63, loss = 0.03342065\n",
      "Iteration 64, loss = 0.03349649\n",
      "Iteration 65, loss = 0.03333700\n",
      "Iteration 66, loss = 0.03221756\n",
      "Iteration 67, loss = 0.03107829\n",
      "Iteration 68, loss = 0.03176484\n",
      "Iteration 69, loss = 0.03069431\n",
      "Iteration 70, loss = 0.03038037\n",
      "Iteration 71, loss = 0.02960555\n",
      "Iteration 72, loss = 0.02933853\n",
      "Iteration 73, loss = 0.02953036\n",
      "Iteration 74, loss = 0.02864835\n",
      "Iteration 75, loss = 0.02808078\n",
      "Iteration 76, loss = 0.02784845\n",
      "Iteration 77, loss = 0.02752959\n",
      "Iteration 78, loss = 0.02690519\n",
      "Iteration 79, loss = 0.02665253\n",
      "Iteration 80, loss = 0.02670759\n",
      "Iteration 81, loss = 0.02643128\n",
      "Iteration 82, loss = 0.02598670\n",
      "Iteration 83, loss = 0.02642342\n",
      "Iteration 84, loss = 0.02536952\n",
      "Iteration 85, loss = 0.02541926\n",
      "Iteration 86, loss = 0.02504683\n",
      "Iteration 87, loss = 0.02416792\n",
      "Iteration 88, loss = 0.02418184\n",
      "Iteration 89, loss = 0.02387012\n",
      "Iteration 90, loss = 0.02354298\n",
      "Iteration 91, loss = 0.02313218\n",
      "Iteration 92, loss = 0.02353810\n",
      "Iteration 93, loss = 0.02313544\n",
      "Iteration 94, loss = 0.02266224\n",
      "Iteration 95, loss = 0.02201293\n",
      "Iteration 96, loss = 0.02181004\n",
      "Iteration 97, loss = 0.02150102\n",
      "Iteration 98, loss = 0.02189321\n",
      "Iteration 99, loss = 0.02136770\n",
      "Iteration 100, loss = 0.02101791\n",
      "Iteration 101, loss = 0.02133479\n",
      "Iteration 102, loss = 0.02083252\n",
      "Iteration 103, loss = 0.02055571\n",
      "Iteration 104, loss = 0.02038359\n",
      "Iteration 105, loss = 0.02019366\n",
      "Iteration 106, loss = 0.01988107\n",
      "Iteration 107, loss = 0.01973419\n",
      "Iteration 108, loss = 0.01984039\n",
      "Iteration 109, loss = 0.01933808\n",
      "Iteration 110, loss = 0.01927969\n",
      "Iteration 111, loss = 0.01909174\n",
      "Iteration 112, loss = 0.01990188\n",
      "Iteration 113, loss = 0.01868655\n",
      "Iteration 114, loss = 0.01862848\n",
      "Iteration 115, loss = 0.01876134\n",
      "Iteration 116, loss = 0.01835065\n",
      "Iteration 117, loss = 0.01817169\n",
      "Iteration 118, loss = 0.01813385\n",
      "Iteration 119, loss = 0.01764613\n",
      "Iteration 120, loss = 0.01778190\n",
      "Iteration 121, loss = 0.01729092\n",
      "Iteration 122, loss = 0.01714925\n",
      "Iteration 123, loss = 0.01717880\n",
      "Iteration 124, loss = 0.01698638\n",
      "Iteration 125, loss = 0.01678696\n",
      "Iteration 126, loss = 0.01701159\n",
      "Iteration 127, loss = 0.01660876\n",
      "Iteration 128, loss = 0.01710698\n",
      "Iteration 129, loss = 0.01672979\n",
      "Iteration 130, loss = 0.01625790\n",
      "Iteration 131, loss = 0.01610892\n",
      "Iteration 132, loss = 0.01615286\n",
      "Iteration 133, loss = 0.01593464\n",
      "Iteration 134, loss = 0.01571089\n",
      "Iteration 135, loss = 0.01572075\n",
      "Iteration 136, loss = 0.01545400\n",
      "Iteration 137, loss = 0.01527917\n",
      "Iteration 138, loss = 0.01518607\n",
      "Iteration 139, loss = 0.01513072\n",
      "Iteration 140, loss = 0.01518407\n",
      "Iteration 141, loss = 0.01491199\n",
      "Iteration 142, loss = 0.01513994\n",
      "Iteration 143, loss = 0.01498458\n",
      "Iteration 144, loss = 0.01460966\n",
      "Iteration 145, loss = 0.01453162\n",
      "Iteration 146, loss = 0.01447576\n",
      "Iteration 147, loss = 0.01447193\n",
      "Iteration 148, loss = 0.01439792\n",
      "Iteration 149, loss = 0.01428032\n",
      "Iteration 150, loss = 0.01407432\n",
      "Iteration 151, loss = 0.01389589\n",
      "Iteration 152, loss = 0.01391646\n",
      "Iteration 153, loss = 0.01385090\n",
      "Iteration 154, loss = 0.01376358\n",
      "Iteration 155, loss = 0.01359008\n",
      "Iteration 156, loss = 0.01359408\n",
      "Iteration 157, loss = 0.01333960\n",
      "Iteration 158, loss = 0.01328056\n",
      "Iteration 159, loss = 0.01316384\n",
      "Iteration 160, loss = 0.01300212\n",
      "Iteration 161, loss = 0.01301353\n",
      "Iteration 162, loss = 0.01306253\n",
      "Iteration 163, loss = 0.01284794\n",
      "Iteration 164, loss = 0.01280985\n",
      "Iteration 165, loss = 0.01276967\n",
      "Iteration 166, loss = 0.01281351\n",
      "Iteration 167, loss = 0.01290284\n",
      "Iteration 168, loss = 0.01257899\n",
      "Iteration 169, loss = 0.01282194\n",
      "Iteration 170, loss = 0.01245603\n",
      "Iteration 171, loss = 0.01231398\n",
      "Iteration 172, loss = 0.01223121\n",
      "Iteration 173, loss = 0.01217710\n",
      "Iteration 174, loss = 0.01202550\n",
      "Iteration 175, loss = 0.01206618\n",
      "Iteration 176, loss = 0.01201815\n",
      "Iteration 177, loss = 0.01267218\n",
      "Iteration 178, loss = 0.01223777\n",
      "Iteration 179, loss = 0.01185272\n",
      "Iteration 180, loss = 0.01159567\n",
      "Iteration 181, loss = 0.01156159\n",
      "Iteration 182, loss = 0.01150491\n",
      "Iteration 183, loss = 0.01150110\n",
      "Iteration 184, loss = 0.01140161\n",
      "Iteration 185, loss = 0.01132889\n",
      "Iteration 186, loss = 0.01115636\n",
      "Iteration 187, loss = 0.01112890\n",
      "Iteration 188, loss = 0.01108969\n",
      "Iteration 189, loss = 0.01097641\n",
      "Iteration 190, loss = 0.01113406\n",
      "Iteration 191, loss = 0.01090180\n",
      "Iteration 192, loss = 0.01077146\n",
      "Iteration 193, loss = 0.01070800\n",
      "Iteration 194, loss = 0.01070910\n",
      "Iteration 195, loss = 0.01065492\n",
      "Iteration 196, loss = 0.01047633\n",
      "Iteration 197, loss = 0.01037280\n",
      "Iteration 198, loss = 0.01039691\n",
      "Iteration 199, loss = 0.01034896\n",
      "Iteration 200, loss = 0.01027926\n",
      "Iteration 201, loss = 0.01021742\n",
      "Iteration 202, loss = 0.01006801\n",
      "Iteration 203, loss = 0.01007072\n",
      "Iteration 204, loss = 0.01018727\n",
      "Iteration 205, loss = 0.00999421\n",
      "Iteration 206, loss = 0.00996783\n",
      "Iteration 207, loss = 0.00993346\n",
      "Iteration 208, loss = 0.00988378\n",
      "Iteration 209, loss = 0.00978280\n",
      "Iteration 210, loss = 0.00976005\n",
      "Iteration 211, loss = 0.00975531\n",
      "Iteration 212, loss = 0.00963714\n",
      "Iteration 213, loss = 0.00958973\n",
      "Iteration 214, loss = 0.00959654\n",
      "Iteration 215, loss = 0.00947302\n",
      "Iteration 216, loss = 0.00946139\n",
      "Iteration 217, loss = 0.00956602\n",
      "Iteration 218, loss = 0.00950469\n",
      "Iteration 219, loss = 0.00930562\n",
      "Iteration 220, loss = 0.00926978\n",
      "Iteration 221, loss = 0.00920599\n",
      "Iteration 222, loss = 0.00917527\n",
      "Iteration 223, loss = 0.00913343\n",
      "Iteration 224, loss = 0.00912175\n",
      "Iteration 225, loss = 0.00911995\n",
      "Iteration 226, loss = 0.00916147\n",
      "Iteration 227, loss = 0.00900334\n",
      "Iteration 228, loss = 0.00895707\n",
      "Iteration 229, loss = 0.00892112\n",
      "Iteration 230, loss = 0.00894272\n",
      "Iteration 231, loss = 0.00881158\n",
      "Iteration 232, loss = 0.00881983\n",
      "Iteration 233, loss = 0.00875409\n",
      "Iteration 234, loss = 0.00880784\n",
      "Iteration 235, loss = 0.00870978\n",
      "Iteration 236, loss = 0.00869205\n",
      "Iteration 237, loss = 0.00867991\n",
      "Iteration 238, loss = 0.00860803\n",
      "Iteration 239, loss = 0.00858725\n",
      "Iteration 240, loss = 0.00851589\n",
      "Iteration 241, loss = 0.00858266\n",
      "Iteration 242, loss = 0.00861057\n",
      "Training loss did not improve more than tol=0.000100 for 10 consecutive epochs. Stopping.\n"
     ]
    },
    {
     "data": {
      "text/plain": [
       "MLPClassifier(activation='logistic', hidden_layer_sizes=(15,),\n",
       "              learning_rate_init=0.09, max_iter=3000, random_state=1,\n",
       "              solver='sgd', verbose=True)"
      ]
     },
     "execution_count": 28,
     "metadata": {},
     "output_type": "execute_result"
    }
   ],
   "source": [
    "mlp.fit(x_train,y_train)"
   ]
  },
  {
   "cell_type": "code",
   "execution_count": 29,
   "metadata": {},
   "outputs": [
    {
     "data": {
      "text/plain": [
       "array([2, 8, 2, 6, 6, 7, 1, 9, 8, 5, 2, 8, 6, 6, 6, 6, 1, 0, 5, 8, 8, 7,\n",
       "       8, 4, 7, 5, 4, 9, 2, 9, 4, 7, 6, 8, 9, 4, 3, 1, 0, 1, 8, 6, 7, 7,\n",
       "       1, 0, 7, 6, 2, 1, 9, 6, 7, 9, 0, 0, 5, 1, 6, 3, 0, 2, 3, 4, 1, 9,\n",
       "       2, 6, 9, 1, 8, 3, 5, 1, 2, 8, 2, 2, 9, 7, 2, 3, 6, 0, 5, 3, 7, 5,\n",
       "       1, 2, 9, 9, 3, 1, 4, 7, 4, 8, 5, 8])"
      ]
     },
     "execution_count": 29,
     "metadata": {},
     "output_type": "execute_result"
    }
   ],
   "source": [
    "predictions = mlp.predict(x_test)\n",
    "predictions[:100] "
   ]
  },
  {
   "cell_type": "code",
   "execution_count": 30,
   "metadata": {},
   "outputs": [
    {
     "data": {
      "text/plain": [
       "array([2, 8, 2, 6, 6, 7, 1, 9, 8, 5, 2, 8, 6, 6, 6, 6, 1, 0, 5, 8, 8, 7,\n",
       "       8, 4, 7, 5, 4, 9, 2, 9, 4, 7, 6, 8, 9, 4, 3, 1, 0, 1, 8, 6, 7, 7,\n",
       "       1, 0, 7, 6, 2, 1, 9, 6, 7, 9, 0, 0, 5, 1, 6, 3, 0, 2, 3, 4, 1, 9,\n",
       "       2, 6, 9, 1, 8, 3, 5, 1, 2, 8, 2, 2, 9, 7, 2, 3, 6, 0, 5, 3, 7, 5,\n",
       "       1, 2, 9, 9, 3, 1, 7, 7, 4, 8, 5, 8])"
      ]
     },
     "execution_count": 30,
     "metadata": {},
     "output_type": "execute_result"
    }
   ],
   "source": [
    "y_test[:100]"
   ]
  },
  {
   "cell_type": "markdown",
   "metadata": {},
   "source": [
    "### Confusion Matrix"
   ]
  },
  {
   "cell_type": "code",
   "execution_count": 31,
   "metadata": {},
   "outputs": [
    {
     "name": "stdout",
     "output_type": "stream",
     "text": [
      "[[27  0  0  0  0  0  0  0  0  0]\n",
      " [ 0 31  0  0  0  0  0  0  3  1]\n",
      " [ 0  0 36  0  0  0  0  0  0  0]\n",
      " [ 0  0  1 28  0  0  0  0  0  0]\n",
      " [ 0  0  0  0 30  0  0  0  0  0]\n",
      " [ 0  0  0  1  0 39  0  0  0  0]\n",
      " [ 0  0  0  0  0  0 44  0  0  0]\n",
      " [ 0  0  0  0  2  0  0 37  0  0]\n",
      " [ 0  0  0  0  0  1  0  0 38  0]\n",
      " [ 0  0  0  0  0  0  0  1  0 40]]\n"
     ]
    },
    {
     "data": {
      "image/png": "[encoded data removed]",
      "text/plain": [
       "<Figure size 648x648 with 2 Axes>"
      ]
     },
     "metadata": {
      "needs_background": "light"
     },
     "output_type": "display_data"
    }
   ],
   "source": [
    "cm2 = metrics.confusion_matrix(y_test, predictions)\n",
    "print(cm2)\n",
    "\n",
    "\n",
    "plt.figure(figsize=(9,9))\n",
    "sns.heatmap(cm2, annot=True, fmt=\".3f\", linewidths=.5, square = True, cmap = 'Blues_r');\n",
    "plt.ylabel('Actual label');\n",
    "plt.xlabel('Predicted label');\n",
    "plt.title(\"Confusion Matrix\", size = 15);"
   ]
  },
  {
   "cell_type": "markdown",
   "metadata": {},
   "source": [
    "### Classification report"
   ]
  },
  {
   "cell_type": "code",
   "execution_count": 32,
   "metadata": {},
   "outputs": [
    {
     "name": "stdout",
     "output_type": "stream",
     "text": [
      "Accuracy : 0.9722222222222222\n",
      "\n",
      "              precision    recall  f1-score   support\n",
      "\n",
      "           0       1.00      1.00      1.00        27\n",
      "           1       1.00      0.89      0.94        35\n",
      "           2       0.97      1.00      0.99        36\n",
      "           3       0.97      0.97      0.97        29\n",
      "           4       0.94      1.00      0.97        30\n",
      "           5       0.97      0.97      0.97        40\n",
      "           6       1.00      1.00      1.00        44\n",
      "           7       0.97      0.95      0.96        39\n",
      "           8       0.93      0.97      0.95        39\n",
      "           9       0.98      0.98      0.98        41\n",
      "\n",
      "    accuracy                           0.97       360\n",
      "   macro avg       0.97      0.97      0.97       360\n",
      "weighted avg       0.97      0.97      0.97       360\n",
      "\n"
     ]
    }
   ],
   "source": [
    "from sklearn.metrics import accuracy_score\n",
    "\n",
    "print(\"Accuracy : %s\\n\" % metrics.accuracy_score(y_test, predictions))\n",
    "\n",
    "mlp_report2 = classification_report(y_test, predictions)\n",
    "print(mlp_report2)"
   ]
  },
  {
   "cell_type": "markdown",
   "metadata": {},
   "source": [
    "## Multi-class / Algorithm 3 : SVM SVC"
   ]
  },
  {
   "cell_type": "code",
   "execution_count": 33,
   "metadata": {},
   "outputs": [
    {
     "data": {
      "text/plain": [
       "array([2, 8, 2, 6, 6, 7, 1, 9, 8, 5, 2, 8, 6, 6, 6, 6, 1, 0, 5, 8, 8, 7,\n",
       "       8, 4, 7, 5, 4, 9, 2, 9, 4, 7, 6, 8, 9, 4, 3, 1, 0, 1, 8, 6, 7, 7,\n",
       "       1, 0, 7, 6, 2, 1, 9, 6, 7, 9, 0, 0, 5, 1, 6, 3, 0, 2, 3, 4, 1, 9,\n",
       "       2, 6, 9, 1, 8, 3, 5, 1, 2, 8, 2, 2, 9, 7, 2, 3, 6, 0, 5, 3, 7, 5,\n",
       "       1, 2, 9, 9, 3, 1, 7, 7, 4, 8, 5, 8])"
      ]
     },
     "execution_count": 33,
     "metadata": {},
     "output_type": "execute_result"
    }
   ],
   "source": [
    "y = digits.target\n",
    "x = digits.images.reshape((len(digits.images), -1))\n",
    "\n",
    "x_train, x_test, y_train, y_test = train_test_split(x, y, test_size=0.20, random_state=0)\n",
    "\n",
    "from sklearn import svm\n",
    "\n",
    "\n",
    "clf = svm.SVC(kernel='linear')\n",
    "\n",
    "\n",
    "clf.fit(x_train, y_train)\n",
    "\n",
    "predictions = clf.predict(x_test)\n",
    "\n",
    "predictions[:100]"
   ]
  },
  {
   "cell_type": "code",
   "execution_count": 34,
   "metadata": {},
   "outputs": [
    {
     "data": {
      "text/plain": [
       "array([2, 8, 2, 6, 6, 7, 1, 9, 8, 5, 2, 8, 6, 6, 6, 6, 1, 0, 5, 8, 8, 7,\n",
       "       8, 4, 7, 5, 4, 9, 2, 9, 4, 7, 6, 8, 9, 4, 3, 1, 0, 1, 8, 6, 7, 7,\n",
       "       1, 0, 7, 6, 2, 1, 9, 6, 7, 9, 0, 0, 5, 1, 6, 3, 0, 2, 3, 4, 1, 9,\n",
       "       2, 6, 9, 1, 8, 3, 5, 1, 2, 8, 2, 2, 9, 7, 2, 3, 6, 0, 5, 3, 7, 5,\n",
       "       1, 2, 9, 9, 3, 1, 7, 7, 4, 8, 5, 8])"
      ]
     },
     "execution_count": 34,
     "metadata": {},
     "output_type": "execute_result"
    }
   ],
   "source": [
    "y_test[:100]"
   ]
  },
  {
   "cell_type": "markdown",
   "metadata": {},
   "source": [
    "### Confusion Matrix"
   ]
  },
  {
   "cell_type": "code",
   "execution_count": 35,
   "metadata": {},
   "outputs": [
    {
     "name": "stdout",
     "output_type": "stream",
     "text": [
      "[[27  0  0  0  0  0  0  0  0  0]\n",
      " [ 0 34  0  0  0  0  0  0  1  0]\n",
      " [ 0  0 36  0  0  0  0  0  0  0]\n",
      " [ 0  0  0 29  0  0  0  0  0  0]\n",
      " [ 0  0  0  0 30  0  0  0  0  0]\n",
      " [ 0  0  0  0  0 39  0  0  0  1]\n",
      " [ 0  1  0  0  0  0 43  0  0  0]\n",
      " [ 0  0  0  0  1  0  0 38  0  0]\n",
      " [ 0  1  1  0  0  0  0  0 37  0]\n",
      " [ 0  0  0  1  0  1  0  0  0 39]]\n"
     ]
    },
    {
     "data": {
      "image/png": "[encoded data removed]",
      "text/plain": [
       "<Figure size 648x648 with 2 Axes>"
      ]
     },
     "metadata": {
      "needs_background": "light"
     },
     "output_type": "display_data"
    }
   ],
   "source": [
    "cm2 = metrics.confusion_matrix(y_test, predictions)\n",
    "print(cm2)\n",
    "\n",
    "\n",
    "plt.figure(figsize=(9,9))\n",
    "sns.heatmap(cm2, annot=True, fmt=\".3f\", linewidths=.5, square = True, cmap = 'Blues_r');\n",
    "plt.ylabel('Actual label');\n",
    "plt.xlabel('Predicted label');\n",
    "plt.title(\"Confusion Matrix\", size = 15);"
   ]
  },
  {
   "cell_type": "markdown",
   "metadata": {},
   "source": [
    "### Classification Report"
   ]
  },
  {
   "cell_type": "code",
   "execution_count": 36,
   "metadata": {},
   "outputs": [
    {
     "name": "stdout",
     "output_type": "stream",
     "text": [
      "Accuracy : 0.9777777777777777\n",
      "\n",
      "              precision    recall  f1-score   support\n",
      "\n",
      "           0       1.00      1.00      1.00        27\n",
      "           1       0.94      0.97      0.96        35\n",
      "           2       0.97      1.00      0.99        36\n",
      "           3       0.97      1.00      0.98        29\n",
      "           4       0.97      1.00      0.98        30\n",
      "           5       0.97      0.97      0.97        40\n",
      "           6       1.00      0.98      0.99        44\n",
      "           7       1.00      0.97      0.99        39\n",
      "           8       0.97      0.95      0.96        39\n",
      "           9       0.97      0.95      0.96        41\n",
      "\n",
      "    accuracy                           0.98       360\n",
      "   macro avg       0.98      0.98      0.98       360\n",
      "weighted avg       0.98      0.98      0.98       360\n",
      "\n"
     ]
    }
   ],
   "source": [
    "from sklearn.metrics import accuracy_score\n",
    "\n",
    "print(\"Accuracy : %s\\n\" % metrics.accuracy_score(y_test, predictions))\n",
    "\n",
    "svc_report2 = classification_report(y_test, predictions)\n",
    "print(svc_report2)"
   ]
  },
  {
   "cell_type": "markdown",
   "metadata": {},
   "source": [
    "## Conclusion"
   ]
  },
  {
   "cell_type": "code",
   "execution_count": 37,
   "metadata": {},
   "outputs": [
    {
     "name": "stdout",
     "output_type": "stream",
     "text": [
      "Logistic Regession :\n",
      "               precision    recall  f1-score   support\n",
      "\n",
      "           0       1.00      1.00      1.00        27\n",
      "           1       0.91      0.89      0.90        35\n",
      "           2       0.97      0.97      0.97        36\n",
      "           3       0.97      1.00      0.98        29\n",
      "           4       0.97      1.00      0.98        30\n",
      "           5       0.97      0.93      0.95        40\n",
      "           6       0.98      0.98      0.98        44\n",
      "           7       1.00      0.97      0.99        39\n",
      "           8       0.92      0.92      0.92        39\n",
      "           9       0.91      0.95      0.93        41\n",
      "\n",
      "    accuracy                           0.96       360\n",
      "   macro avg       0.96      0.96      0.96       360\n",
      "weighted avg       0.96      0.96      0.96       360\n",
      "\n",
      "\n",
      "\n",
      "MLP :\n",
      "               precision    recall  f1-score   support\n",
      "\n",
      "           0       1.00      1.00      1.00        27\n",
      "           1       1.00      0.89      0.94        35\n",
      "           2       0.97      1.00      0.99        36\n",
      "           3       0.97      0.97      0.97        29\n",
      "           4       0.94      1.00      0.97        30\n",
      "           5       0.97      0.97      0.97        40\n",
      "           6       1.00      1.00      1.00        44\n",
      "           7       0.97      0.95      0.96        39\n",
      "           8       0.93      0.97      0.95        39\n",
      "           9       0.98      0.98      0.98        41\n",
      "\n",
      "    accuracy                           0.97       360\n",
      "   macro avg       0.97      0.97      0.97       360\n",
      "weighted avg       0.97      0.97      0.97       360\n",
      "\n",
      "\n",
      "\n",
      "SVC : \n",
      "               precision    recall  f1-score   support\n",
      "\n",
      "           0       1.00      1.00      1.00        27\n",
      "           1       0.94      0.97      0.96        35\n",
      "           2       0.97      1.00      0.99        36\n",
      "           3       0.97      1.00      0.98        29\n",
      "           4       0.97      1.00      0.98        30\n",
      "           5       0.97      0.97      0.97        40\n",
      "           6       1.00      0.98      0.99        44\n",
      "           7       1.00      0.97      0.99        39\n",
      "           8       0.97      0.95      0.96        39\n",
      "           9       0.97      0.95      0.96        41\n",
      "\n",
      "    accuracy                           0.98       360\n",
      "   macro avg       0.98      0.98      0.98       360\n",
      "weighted avg       0.98      0.98      0.98       360\n",
      "\n"
     ]
    }
   ],
   "source": [
    "print(\"Logistic Regession :\\n %s\"% log_report2)\n",
    "\n",
    "print(\"\\n\\nMLP :\\n %s\"% mlp_report2)\n",
    "\n",
    "print(\"\\n\\nSVC : \\n %s\"% svc_report2)"
   ]
  },
  {
   "cell_type": "markdown",
   "metadata": {},
   "source": [
    "#### Surprisingly, compared to binary models, multi-class models are not in the same efficiency. The MPl model have almost the same result as SVC model."
   ]
  },
  {
   "cell_type": "markdown",
   "metadata": {},
   "source": [
    "# 5) Gradient descent ?"
   ]
  },
  {
   "cell_type": "markdown",
   "metadata": {},
   "source": [
    "#### Gradient descent :\n",
    "\n",
    "We pass the whole\n",
    "observations, the gradient is calculated, the coefficients are corrected. Etc.\n",
    "\n",
    "\n",
    "#### Stochastic gradient : \n",
    "\n",
    "Stochastic gradient is an approximation of the gradient descent, applicable\n",
    "when the objective function is written as a sum of differentiable functions: it is\n",
    "very often the case in supervised learning"
   ]
  },
  {
   "cell_type": "markdown",
   "metadata": {},
   "source": [
    "#### Pseudo code gradient descent :"
   ]
  },
  {
   "cell_type": "code",
   "execution_count": null,
   "metadata": {},
   "outputs": [],
   "source": []
  }
 ],
 "metadata": {
  "kernelspec": {
   "display_name": "Python 3",
   "language": "python",
   "name": "python3"
  },
  "language_info": {
   "codemirror_mode": {
    "name": "ipython",
    "version": 3
   },
   "file_extension": ".py",
   "mimetype": "text/x-python",
   "name": "python",
   "nbconvert_exporter": "python",
   "pygments_lexer": "ipython3",
   "version": "3.8.5"
  }
 },
 "nbformat": 4,
 "nbformat_minor": 4
}
