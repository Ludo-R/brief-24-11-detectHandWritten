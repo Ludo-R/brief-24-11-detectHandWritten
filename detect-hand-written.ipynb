{
 "cells": [
  {
   "cell_type": "markdown",
   "metadata": {},
   "source": [
    "# 1) Get and understand your data"
   ]
  },
  {
   "cell_type": "code",
   "execution_count": 1,
   "metadata": {
    "scrolled": true
   },
   "outputs": [
    {
     "name": "stdout",
     "output_type": "stream",
     "text": [
      "(1797, 64)\n"
     ]
    }
   ],
   "source": [
    "\n",
    "# Import some libraries\n",
    "\n",
    "import numpy as np\n",
    "from sklearn.datasets import load_digits\n",
    "import matplotlib.pyplot as plt \n",
    "\n",
    "# Import some data\n",
    "digits = load_digits()\n",
    "# Show dimensionality\n",
    "print(digits.data.shape)"
   ]
  },
  {
   "cell_type": "code",
   "execution_count": 2,
   "metadata": {},
   "outputs": [
    {
     "data": {
      "text/plain": [
       "<Figure size 432x288 with 0 Axes>"
      ]
     },
     "metadata": {},
     "output_type": "display_data"
    },
    {
     "data": {
      "image/png": "[encoded data removed]",
      "text/plain": [
       "<Figure size 288x288 with 1 Axes>"
      ]
     },
     "metadata": {
      "needs_background": "light"
     },
     "output_type": "display_data"
    }
   ],
   "source": [
    "# Show one data\n",
    "\n",
    "plt.gray() \n",
    "plt.matshow(digits.images[0]) \n",
    "plt.show()"
   ]
  },
  {
   "cell_type": "code",
   "execution_count": 3,
   "metadata": {},
   "outputs": [
    {
     "data": {
      "image/png": "[encoded data removed]",
      "text/plain": [
       "<Figure size 864x864 with 100 Axes>"
      ]
     },
     "metadata": {
      "needs_background": "light"
     },
     "output_type": "display_data"
    }
   ],
   "source": [
    "\n",
    "# Show several data for each label (== category) \n",
    "\n",
    "X = digits.images\n",
    "Y = digits.target\n",
    "\n",
    "\n",
    "\n",
    "n_digits = np.unique(Y)\n",
    "\n",
    "M = 10\n",
    "dim = int(np.sqrt(X.shape[1]))\n",
    "\n",
    "fig, axs = plt.subplots(len(n_digits), M, figsize=(12, 12))\n",
    "\n",
    "for i, d in enumerate(n_digits):\n",
    "    for j in range(M):\n",
    "        axs[i,j].imshow(X[Y == d][j])\n",
    "        axs[i,j].axis('off')"
   ]
  },
  {
   "cell_type": "markdown",
   "metadata": {},
   "source": [
    "### What is the type of the data ?\n",
    "\n",
    "Data's are Images, it is Object type\n",
    "\n",
    "### How many pixel has one data instance ?\n",
    "\n",
    "One data instance have 64 pixel, 8x8\n",
    "\n",
    "### What is the type of data of one pixel ? what does it represents ?\n",
    "\n",
    "The type of data of one pixel is Float, it represents the variation of gray color."
   ]
  },
  {
   "cell_type": "markdown",
   "metadata": {},
   "source": [
    "# 2) Prepare your ML algorithm"
   ]
  },
  {
   "cell_type": "markdown",
   "metadata": {},
   "source": [
    "### explain the purpose of the training set ?\n",
    "\n",
    "The training set, which will allow us to train our model and will be used by the learning algorithm.\n",
    "\n",
    "### explain the purpose of the testing set ?\n",
    "\n",
    "The testing set, which measures the error of the final model on data it has never seen. We will simply pass this data as if it were data that we have never encountered before (as it will then happen in practice to predict new data) and measure the performance of our model on this data. . This is also called held-out data, to emphasize that this is data that we will not touch before the very end to be able to be sure that the model is working."
   ]
  },
  {
   "cell_type": "markdown",
   "metadata": {},
   "source": [
    "### split data"
   ]
  },
  {
   "cell_type": "code",
   "execution_count": 4,
   "metadata": {},
   "outputs": [],
   "source": [
    "X = digits.data\n",
    "Y = digits.target\n",
    "\n",
    "from sklearn.model_selection import train_test_split\n",
    "\n",
    "x_train, x_test, y_train, y_test = train_test_split(X, Y, test_size=0.20, random_state=0)"
   ]
  },
  {
   "cell_type": "markdown",
   "metadata": {},
   "source": [
    "# 3) Predict Digits"
   ]
  },
  {
   "cell_type": "markdown",
   "metadata": {},
   "source": [
    "### Accuracy"
   ]
  },
  {
   "cell_type": "markdown",
   "metadata": {},
   "source": [
    "### Recall"
   ]
  },
  {
   "cell_type": "markdown",
   "metadata": {},
   "source": [
    "# 4) Multi-class classification"
   ]
  },
  {
   "cell_type": "markdown",
   "metadata": {},
   "source": [
    "### Multi Regression"
   ]
  },
  {
   "cell_type": "code",
   "execution_count": 5,
   "metadata": {},
   "outputs": [],
   "source": [
    "X = digits.data\n",
    "Y = digits.target\n",
    "\n",
    "from sklearn.model_selection import train_test_split\n",
    "\n",
    "x_train, x_test, y_train, y_test = train_test_split(X, Y, test_size=0.20, random_state=0)\n",
    "\n",
    "from sklearn.linear_model import LogisticRegression\n",
    "    \n",
    "logisticRegr = LogisticRegression(max_iter = 3500)"
   ]
  },
  {
   "cell_type": "code",
   "execution_count": 6,
   "metadata": {},
   "outputs": [
    {
     "name": "stdout",
     "output_type": "stream",
     "text": [
      "[2 8 2 6 6 7 1 9 8 5 2 8 6 6 6 6 1 0 5 8 8 7 8 4 7 5 4 9 2 9 4 7 6 8 9 4 3\n",
      " 1 0 1 8 6 7 7 1 0 7 6 2 1 9 6 7 9 0 0 9 1 6 3 0 2 3 4 1 9 2 6 9 1 8 3 5 1\n",
      " 2 8 2 2 9 7 2 3 6 0 9 3 7 5 1 2 8 9 3 1 4 7 4 8 5 8]\n",
      "[2 8 2 6 6 7 1 9 8 5 2 8 6 6 6 6 1 0 5 8 8 7 8 4 7 5 4 9 2 9 4 7 6 8 9 4 3\n",
      " 1 0 1 8 6 7 7 1 0 7 6 2 1 9 6 7 9 0 0 5 1 6 3 0 2 3 4 1 9 2 6 9 1 8 3 5 1\n",
      " 2 8 2 2 9 7 2 3 6 0 5 3 7 5 1 2 9 9 3 1 7 7 4 8 5 8]\n",
      "0.9583333333333334\n"
     ]
    }
   ],
   "source": [
    "logisticRegr.fit(x_train, y_train)\n",
    "\n",
    "predictions = logisticRegr.predict(x_test)\n",
    "print(predictions[:100])\n",
    "print(y_test[:100])\n",
    "\n",
    "score = logisticRegr.score(x_test, y_test)\n",
    "print(score)"
   ]
  },
  {
   "cell_type": "markdown",
   "metadata": {},
   "source": [
    "### Confusion matrice"
   ]
  },
  {
   "cell_type": "code",
   "execution_count": 7,
   "metadata": {},
   "outputs": [
    {
     "name": "stdout",
     "output_type": "stream",
     "text": [
      "[[27  0  0  0  0  0  0  0  0  0]\n",
      " [ 0 31  0  0  0  0  1  0  2  1]\n",
      " [ 0  0 35  1  0  0  0  0  0  0]\n",
      " [ 0  0  0 29  0  0  0  0  0  0]\n",
      " [ 0  0  0  0 30  0  0  0  0  0]\n",
      " [ 0  0  0  0  0 37  0  0  0  3]\n",
      " [ 0  1  0  0  0  0 43  0  0  0]\n",
      " [ 0  0  0  0  1  0  0 38  0  0]\n",
      " [ 0  2  1  0  0  0  0  0 36  0]\n",
      " [ 0  0  0  0  0  1  0  0  1 39]]\n"
     ]
    },
    {
     "data": {
      "image/png": "[encoded data removed]",
      "text/plain": [
       "<Figure size 648x648 with 2 Axes>"
      ]
     },
     "metadata": {
      "needs_background": "light"
     },
     "output_type": "display_data"
    }
   ],
   "source": [
    "import matplotlib.pyplot as plt\n",
    "import seaborn as sns\n",
    "from sklearn import metrics\n",
    "\n",
    "cm = metrics.confusion_matrix(y_test, predictions)\n",
    "print(cm)\n",
    "\n",
    "\n",
    "plt.figure(figsize=(9,9))\n",
    "sns.heatmap(cm, annot=True, fmt=\".3f\", linewidths=.5, square = True, cmap = 'Blues_r');\n",
    "plt.ylabel('Actual label');\n",
    "plt.xlabel('Predicted label');\n",
    "all_sample_title = 'Accuracy Score: {0}'.format(score)\n",
    "plt.title(all_sample_title, size = 15);"
   ]
  },
  {
   "cell_type": "markdown",
   "metadata": {},
   "source": [
    "### Classification report"
   ]
  },
  {
   "cell_type": "markdown",
   "metadata": {},
   "source": [
    "### MLP Neuronal Network  (bonus test)"
   ]
  },
  {
   "cell_type": "code",
   "execution_count": 8,
   "metadata": {},
   "outputs": [
    {
     "name": "stdout",
     "output_type": "stream",
     "text": [
      "(1797, 8, 8)\n",
      "(1797,)\n",
      "[0 1 2 ... 8 9 8]\n"
     ]
    }
   ],
   "source": [
    "print(digits.images.shape)\n",
    "print(digits.target.shape)\n",
    "print(digits.target)"
   ]
  },
  {
   "cell_type": "code",
   "execution_count": 9,
   "metadata": {},
   "outputs": [
    {
     "data": {
      "text/plain": [
       "(1797, 64)"
      ]
     },
     "execution_count": 9,
     "metadata": {},
     "output_type": "execute_result"
    }
   ],
   "source": [
    "y = digits.target\n",
    "x = digits.images.reshape((len(digits.images), -1))\n",
    "x.shape\n"
   ]
  },
  {
   "cell_type": "code",
   "execution_count": 10,
   "metadata": {},
   "outputs": [],
   "source": [
    "from sklearn.model_selection import train_test_split\n",
    "x_train, x_test, y_train, y_test = train_test_split(x, y, test_size=0.20, random_state=0)"
   ]
  },
  {
   "cell_type": "code",
   "execution_count": 11,
   "metadata": {},
   "outputs": [],
   "source": [
    "from sklearn.neural_network import MLPClassifier\n",
    "\n",
    "mlp = MLPClassifier(hidden_layer_sizes=(15,), activation='logistic', alpha=1e-4,\n",
    "                    solver='sgd', tol=1e-4, random_state=1,\n",
    "                    learning_rate_init=.1, verbose=True, max_iter=250)"
   ]
  },
  {
   "cell_type": "code",
   "execution_count": 12,
   "metadata": {},
   "outputs": [
    {
     "name": "stdout",
     "output_type": "stream",
     "text": [
      "Iteration 1, loss = 2.15249593\n",
      "Iteration 2, loss = 1.68980144\n",
      "Iteration 3, loss = 1.25918855\n",
      "Iteration 4, loss = 0.90101278\n",
      "Iteration 5, loss = 0.64705257\n",
      "Iteration 6, loss = 0.50130506\n",
      "Iteration 7, loss = 0.39892879\n",
      "Iteration 8, loss = 0.34805643\n",
      "Iteration 9, loss = 0.28101277\n",
      "Iteration 10, loss = 0.25480912\n",
      "Iteration 11, loss = 0.21190128\n",
      "Iteration 12, loss = 0.20743182\n",
      "Iteration 13, loss = 0.18213260\n",
      "Iteration 14, loss = 0.15995221\n",
      "Iteration 15, loss = 0.15057888\n",
      "Iteration 16, loss = 0.13909420\n",
      "Iteration 17, loss = 0.12906573\n",
      "Iteration 18, loss = 0.11858621\n",
      "Iteration 19, loss = 0.11661341\n",
      "Iteration 20, loss = 0.10772064\n",
      "Iteration 21, loss = 0.09977674\n",
      "Iteration 22, loss = 0.09247116\n",
      "Iteration 23, loss = 0.09095041\n",
      "Iteration 24, loss = 0.08713646\n",
      "Iteration 25, loss = 0.08637697\n",
      "Iteration 26, loss = 0.08517056\n",
      "Iteration 27, loss = 0.07921742\n",
      "Iteration 28, loss = 0.08041866\n",
      "Iteration 29, loss = 0.07065617\n",
      "Iteration 30, loss = 0.06604370\n",
      "Iteration 31, loss = 0.07067165\n",
      "Iteration 32, loss = 0.06156586\n",
      "Iteration 33, loss = 0.05875288\n",
      "Iteration 34, loss = 0.06791662\n",
      "Iteration 35, loss = 0.05789268\n",
      "Iteration 36, loss = 0.05662516\n",
      "Iteration 37, loss = 0.05488521\n",
      "Iteration 38, loss = 0.05053356\n",
      "Iteration 39, loss = 0.04960683\n",
      "Iteration 40, loss = 0.04874293\n",
      "Iteration 41, loss = 0.04558730\n",
      "Iteration 42, loss = 0.04431762\n",
      "Iteration 43, loss = 0.04342598\n",
      "Iteration 44, loss = 0.04196795\n",
      "Iteration 45, loss = 0.04145282\n",
      "Iteration 46, loss = 0.04073692\n",
      "Iteration 47, loss = 0.03931750\n",
      "Iteration 48, loss = 0.03869286\n",
      "Iteration 49, loss = 0.03787976\n",
      "Iteration 50, loss = 0.03731483\n",
      "Iteration 51, loss = 0.03616545\n",
      "Iteration 52, loss = 0.03611156\n",
      "Iteration 53, loss = 0.03568974\n",
      "Iteration 54, loss = 0.03529782\n",
      "Iteration 55, loss = 0.03719276\n",
      "Iteration 56, loss = 0.03509162\n",
      "Iteration 57, loss = 0.03537342\n",
      "Iteration 58, loss = 0.03357963\n",
      "Iteration 59, loss = 0.03225060\n",
      "Iteration 60, loss = 0.03177173\n",
      "Iteration 61, loss = 0.03103484\n",
      "Iteration 62, loss = 0.03060679\n",
      "Iteration 63, loss = 0.03023619\n",
      "Iteration 64, loss = 0.03057684\n",
      "Iteration 65, loss = 0.02966342\n",
      "Iteration 66, loss = 0.02916946\n",
      "Iteration 67, loss = 0.02843174\n",
      "Iteration 68, loss = 0.02802842\n",
      "Iteration 69, loss = 0.02797680\n",
      "Iteration 70, loss = 0.02758983\n",
      "Iteration 71, loss = 0.02706073\n",
      "Iteration 72, loss = 0.02662779\n",
      "Iteration 73, loss = 0.02632751\n",
      "Iteration 74, loss = 0.02574541\n",
      "Iteration 75, loss = 0.02531232\n",
      "Iteration 76, loss = 0.02500393\n",
      "Iteration 77, loss = 0.02480064\n",
      "Iteration 78, loss = 0.02446753\n",
      "Iteration 79, loss = 0.02417807\n",
      "Iteration 80, loss = 0.02405199\n",
      "Iteration 81, loss = 0.02392718\n",
      "Iteration 82, loss = 0.02332192\n",
      "Iteration 83, loss = 0.02333891\n",
      "Iteration 84, loss = 0.02289076\n",
      "Iteration 85, loss = 0.02265835\n",
      "Iteration 86, loss = 0.02257244\n",
      "Iteration 87, loss = 0.02203581\n",
      "Iteration 88, loss = 0.02201884\n",
      "Iteration 89, loss = 0.02209204\n",
      "Iteration 90, loss = 0.02144690\n",
      "Iteration 91, loss = 0.02117337\n",
      "Iteration 92, loss = 0.02146636\n",
      "Iteration 93, loss = 0.02135661\n",
      "Iteration 94, loss = 0.02085489\n",
      "Iteration 95, loss = 0.02035840\n",
      "Iteration 96, loss = 0.02023296\n",
      "Iteration 97, loss = 0.01979452\n",
      "Iteration 98, loss = 0.02007492\n",
      "Iteration 99, loss = 0.01936244\n",
      "Iteration 100, loss = 0.01917613\n",
      "Iteration 101, loss = 0.01913305\n",
      "Iteration 102, loss = 0.01892351\n",
      "Iteration 103, loss = 0.01865424\n",
      "Iteration 104, loss = 0.01852047\n",
      "Iteration 105, loss = 0.01838389\n",
      "Iteration 106, loss = 0.01812138\n",
      "Iteration 107, loss = 0.01796269\n",
      "Iteration 108, loss = 0.01824704\n",
      "Iteration 109, loss = 0.01770006\n",
      "Iteration 110, loss = 0.01767522\n",
      "Iteration 111, loss = 0.01745005\n",
      "Iteration 112, loss = 0.01797964\n",
      "Iteration 113, loss = 0.01714248\n",
      "Iteration 114, loss = 0.01698374\n",
      "Iteration 115, loss = 0.01685807\n",
      "Iteration 116, loss = 0.01685010\n",
      "Iteration 117, loss = 0.01667320\n",
      "Iteration 118, loss = 0.01650358\n",
      "Iteration 119, loss = 0.01628399\n",
      "Iteration 120, loss = 0.01649908\n",
      "Iteration 121, loss = 0.01607283\n",
      "Iteration 122, loss = 0.01598860\n",
      "Iteration 123, loss = 0.01597411\n",
      "Iteration 124, loss = 0.01600337\n",
      "Iteration 125, loss = 0.01562547\n",
      "Iteration 126, loss = 0.01580867\n",
      "Iteration 127, loss = 0.01542731\n",
      "Iteration 128, loss = 0.01548089\n",
      "Iteration 129, loss = 0.01518627\n",
      "Iteration 130, loss = 0.01511508\n",
      "Iteration 131, loss = 0.01496997\n",
      "Iteration 132, loss = 0.01508187\n",
      "Iteration 133, loss = 0.01487369\n",
      "Iteration 134, loss = 0.01482211\n",
      "Iteration 135, loss = 0.01475462\n",
      "Iteration 136, loss = 0.01451385\n",
      "Iteration 137, loss = 0.01437197\n",
      "Iteration 138, loss = 0.01425964\n",
      "Iteration 139, loss = 0.01417154\n",
      "Iteration 140, loss = 0.01431718\n",
      "Iteration 141, loss = 0.01400329\n",
      "Iteration 142, loss = 0.01389695\n",
      "Iteration 143, loss = 0.01386998\n",
      "Iteration 144, loss = 0.01372744\n",
      "Iteration 145, loss = 0.01365244\n",
      "Iteration 146, loss = 0.01353586\n",
      "Iteration 147, loss = 0.01340570\n",
      "Iteration 148, loss = 0.01341142\n",
      "Iteration 149, loss = 0.01328351\n",
      "Iteration 150, loss = 0.01322560\n",
      "Iteration 151, loss = 0.01306638\n",
      "Iteration 152, loss = 0.01307064\n",
      "Iteration 153, loss = 0.01294852\n",
      "Iteration 154, loss = 0.01288648\n",
      "Iteration 155, loss = 0.01276943\n",
      "Iteration 156, loss = 0.01276215\n",
      "Iteration 157, loss = 0.01256907\n",
      "Iteration 158, loss = 0.01253199\n",
      "Iteration 159, loss = 0.01251434\n",
      "Iteration 160, loss = 0.01237856\n",
      "Iteration 161, loss = 0.01236198\n",
      "Iteration 162, loss = 0.01236813\n",
      "Iteration 163, loss = 0.01224836\n",
      "Iteration 164, loss = 0.01219305\n",
      "Iteration 165, loss = 0.01212745\n",
      "Iteration 166, loss = 0.01223618\n",
      "Iteration 167, loss = 0.01199394\n",
      "Iteration 168, loss = 0.01197374\n",
      "Iteration 169, loss = 0.01198539\n",
      "Iteration 170, loss = 0.01172737\n",
      "Iteration 171, loss = 0.01174822\n",
      "Iteration 172, loss = 0.01161990\n",
      "Iteration 173, loss = 0.01154969\n",
      "Iteration 174, loss = 0.01143540\n",
      "Iteration 175, loss = 0.01143983\n",
      "Iteration 176, loss = 0.01138802\n",
      "Iteration 177, loss = 0.01195954\n",
      "Iteration 178, loss = 0.01149361\n",
      "Iteration 179, loss = 0.01125953\n",
      "Iteration 180, loss = 0.01110830\n",
      "Iteration 181, loss = 0.01106490\n",
      "Iteration 182, loss = 0.01100716\n",
      "Iteration 183, loss = 0.01097433\n",
      "Iteration 184, loss = 0.01085247\n",
      "Iteration 185, loss = 0.01084798\n",
      "Iteration 186, loss = 0.01078047\n",
      "Iteration 187, loss = 0.01080400\n",
      "Iteration 188, loss = 0.01066969\n",
      "Iteration 189, loss = 0.01068222\n",
      "Iteration 190, loss = 0.01065586\n",
      "Iteration 191, loss = 0.01051995\n",
      "Iteration 192, loss = 0.01047615\n",
      "Iteration 193, loss = 0.01040750\n",
      "Iteration 194, loss = 0.01037651\n",
      "Iteration 195, loss = 0.01038089\n",
      "Iteration 196, loss = 0.01023229\n",
      "Iteration 197, loss = 0.01017848\n",
      "Iteration 198, loss = 0.01014074\n",
      "Iteration 199, loss = 0.01006419\n",
      "Iteration 200, loss = 0.00995747\n",
      "Iteration 201, loss = 0.00993180\n",
      "Iteration 202, loss = 0.00982349\n",
      "Iteration 203, loss = 0.00986442\n",
      "Iteration 204, loss = 0.00991117\n",
      "Iteration 205, loss = 0.00969246\n",
      "Iteration 206, loss = 0.01000313\n",
      "Iteration 207, loss = 0.00985500\n",
      "Iteration 208, loss = 0.00969460\n",
      "Iteration 209, loss = 0.00957350\n",
      "Iteration 210, loss = 0.00946481\n",
      "Iteration 211, loss = 0.00945113\n",
      "Iteration 212, loss = 0.00938479\n",
      "Iteration 213, loss = 0.00932359\n",
      "Iteration 214, loss = 0.00928163\n",
      "Iteration 215, loss = 0.00922813\n",
      "Iteration 216, loss = 0.00915789\n",
      "Iteration 217, loss = 0.00924313\n",
      "Iteration 218, loss = 0.00917175\n",
      "Iteration 219, loss = 0.00907267\n",
      "Iteration 220, loss = 0.00902846\n",
      "Iteration 221, loss = 0.00897860\n",
      "Training loss did not improve more than tol=0.000100 for 10 consecutive epochs. Stopping.\n"
     ]
    },
    {
     "data": {
      "text/plain": [
       "MLPClassifier(activation='logistic', hidden_layer_sizes=(15,),\n",
       "              learning_rate_init=0.1, max_iter=250, random_state=1,\n",
       "              solver='sgd', verbose=True)"
      ]
     },
     "execution_count": 12,
     "metadata": {},
     "output_type": "execute_result"
    }
   ],
   "source": [
    "mlp.fit(x_train,y_train)"
   ]
  },
  {
   "cell_type": "code",
   "execution_count": 13,
   "metadata": {},
   "outputs": [
    {
     "data": {
      "text/plain": [
       "array([2, 8, 2, 6, 6, 7, 1, 9, 8, 5, 2, 8, 6, 6, 6, 6, 1, 0, 5, 8, 8, 7,\n",
       "       8, 4, 7, 5, 4, 9, 2, 9, 4, 7, 6, 8, 9, 4, 3, 1, 0, 1, 8, 6, 7, 7,\n",
       "       1, 0, 7, 6, 2, 1, 9, 6, 7, 9, 0, 0, 5, 1, 6, 3, 0, 2, 3, 4, 1, 9,\n",
       "       2, 6, 9, 1, 8, 3, 5, 1, 2, 8, 2, 2, 9, 7, 2, 3, 6, 0, 5, 5, 7, 5,\n",
       "       1, 2, 9, 9, 3, 1, 4, 7, 4, 8, 5, 8])"
      ]
     },
     "execution_count": 13,
     "metadata": {},
     "output_type": "execute_result"
    }
   ],
   "source": [
    "predictions = mlp.predict(x_test)\n",
    "predictions[:100] "
   ]
  },
  {
   "cell_type": "code",
   "execution_count": 14,
   "metadata": {},
   "outputs": [
    {
     "data": {
      "text/plain": [
       "array([2, 8, 2, 6, 6, 7, 1, 9, 8, 5, 2, 8, 6, 6, 6, 6, 1, 0, 5, 8, 8, 7,\n",
       "       8, 4, 7, 5, 4, 9, 2, 9, 4, 7, 6, 8, 9, 4, 3, 1, 0, 1, 8, 6, 7, 7,\n",
       "       1, 0, 7, 6, 2, 1, 9, 6, 7, 9, 0, 0, 5, 1, 6, 3, 0, 2, 3, 4, 1, 9,\n",
       "       2, 6, 9, 1, 8, 3, 5, 1, 2, 8, 2, 2, 9, 7, 2, 3, 6, 0, 5, 3, 7, 5,\n",
       "       1, 2, 9, 9, 3, 1, 7, 7, 4, 8, 5, 8])"
      ]
     },
     "execution_count": 14,
     "metadata": {},
     "output_type": "execute_result"
    }
   ],
   "source": [
    "y_test[:100]"
   ]
  },
  {
   "cell_type": "code",
   "execution_count": 15,
   "metadata": {},
   "outputs": [
    {
     "name": "stdout",
     "output_type": "stream",
     "text": [
      "0.9611111111111111\n"
     ]
    }
   ],
   "source": [
    "from sklearn.metrics import accuracy_score\n",
    "\n",
    "print(accuracy_score(y_test, predictions))"
   ]
  },
  {
   "cell_type": "markdown",
   "metadata": {},
   "source": [
    "# 5) Gradient descent ?"
   ]
  },
  {
   "cell_type": "code",
   "execution_count": null,
   "metadata": {},
   "outputs": [],
   "source": []
  }
 ],
 "metadata": {
  "kernelspec": {
   "display_name": "Python 3",
   "language": "python",
   "name": "python3"
  },
  "language_info": {
   "codemirror_mode": {
    "name": "ipython",
    "version": 3
   },
   "file_extension": ".py",
   "mimetype": "text/x-python",
   "name": "python",
   "nbconvert_exporter": "python",
   "pygments_lexer": "ipython3",
   "version": "3.8.5"
  }
 },
 "nbformat": 4,
 "nbformat_minor": 4
}
